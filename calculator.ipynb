{
  "nbformat": 4,
  "nbformat_minor": 0,
  "metadata": {
    "colab": {
      "provenance": [],
      "authorship_tag": "ABX9TyMlHMS/XPBy/K9O/2hI2Wqk",
      "include_colab_link": true
    },
    "kernelspec": {
      "name": "python3",
      "display_name": "Python 3"
    },
    "language_info": {
      "name": "python"
    }
  },
  "cells": [
    {
      "cell_type": "markdown",
      "metadata": {
        "id": "view-in-github",
        "colab_type": "text"
      },
      "source": [
        "<a href=\"https://colab.research.google.com/github/tayyabismail/Simple-Cal-GEN-AI/blob/main/calculator.ipynb\" target=\"_parent\"><img src=\"https://colab.research.google.com/assets/colab-badge.svg\" alt=\"Open In Colab\"/></a>"
      ]
    },
    {
      "cell_type": "code",
      "execution_count": 1,
      "metadata": {
        "colab": {
          "base_uri": "https://localhost:8080/"
        },
        "id": "CyvdXzB2NxDK",
        "outputId": "e7d2fb3b-58f7-4ea7-deb9-9a929709e449"
      },
      "outputs": [
        {
          "output_type": "stream",
          "name": "stdout",
          "text": [
            "Welcome to the Simple Calculator!\n",
            "Choose an operation:\n",
            "1. Addition (+)\n",
            "2. Subtraction (-)\n",
            "3. Multiplication (*)\n",
            "4. Division (/)\n",
            "Enter choice (1/2/3/4): 3\n",
            "Enter first number: 60\n",
            "Enter second number: 100\n",
            "The result of 60.0 * 100.0 is 6000.0\n"
          ]
        }
      ],
      "source": [
        "# Simple Calculator in Google Colab\n",
        "\n",
        "def calculator():\n",
        "    print(\"Welcome to the Simple Calculator!\")\n",
        "    print(\"Choose an operation:\")\n",
        "    print(\"1. Addition (+)\")\n",
        "    print(\"2. Subtraction (-)\")\n",
        "    print(\"3. Multiplication (*)\")\n",
        "    print(\"4. Division (/)\")\n",
        "\n",
        "    # Get the operation from the user\n",
        "    choice = input(\"Enter choice (1/2/3/4): \")\n",
        "\n",
        "    if choice in ['1', '2', '3', '4']:\n",
        "        # Get the numbers from the user\n",
        "        num1 = float(input(\"Enter first number: \"))\n",
        "        num2 = float(input(\"Enter second number: \"))\n",
        "\n",
        "        # Perform the corresponding operation\n",
        "        if choice == '1':\n",
        "            result = num1 + num2\n",
        "            print(f\"The result of {num1} + {num2} is {result}\")\n",
        "        elif choice == '2':\n",
        "            result = num1 - num2\n",
        "            print(f\"The result of {num1} - {num2} is {result}\")\n",
        "        elif choice == '3':\n",
        "            result = num1 * num2\n",
        "            print(f\"The result of {num1} * {num2} is {result}\")\n",
        "        elif choice == '4':\n",
        "            # Check for division by zero\n",
        "            if num2 == 0:\n",
        "                print(\"Division by zero is not allowed.\")\n",
        "            else:\n",
        "                result = num1 / num2\n",
        "                print(f\"The result of {num1} / {num2} is {result}\")\n",
        "    else:\n",
        "        print(\"Invalid input! Please select a valid operation.\")\n",
        "\n",
        "# Run the calculator\n",
        "calculator()\n"
      ]
    }
  ]
}